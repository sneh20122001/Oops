{
  "cells": [
    {
      "cell_type": "markdown",
      "metadata": {
        "id": "3Lf7y9DAG9WF"
      },
      "source": [
        "what is OOPs??\n",
        "\n",
        "-> it's a object oriented programming,which convert generality code to specificity\n"
      ]
    },
    {
      "cell_type": "code",
      "execution_count": null,
      "metadata": {
        "colab": {
          "base_uri": "https://localhost:8080/",
          "height": 210
        },
        "id": "bFsj9MSNGEiI",
        "outputId": "138ee647-fe45-446f-8834-4c8269506ee2"
      },
      "outputs": [
        {
          "ename": "AttributeError",
          "evalue": "ignored",
          "output_type": "error",
          "traceback": [
            "\u001b[0;31m---------------------------------------------------------------------------\u001b[0m",
            "\u001b[0;31mAttributeError\u001b[0m                            Traceback (most recent call last)",
            "\u001b[0;32m<ipython-input-1-af1f83522ab7>\u001b[0m in \u001b[0;36m<cell line: 3>\u001b[0;34m()\u001b[0m\n\u001b[1;32m      1\u001b[0m \u001b[0mL\u001b[0m \u001b[0;34m=\u001b[0m \u001b[0;34m[\u001b[0m\u001b[0;36m1\u001b[0m\u001b[0;34m,\u001b[0m\u001b[0;36m2\u001b[0m\u001b[0;34m,\u001b[0m\u001b[0;36m3\u001b[0m\u001b[0;34m]\u001b[0m\u001b[0;34m\u001b[0m\u001b[0;34m\u001b[0m\u001b[0m\n\u001b[1;32m      2\u001b[0m \u001b[0;34m\u001b[0m\u001b[0m\n\u001b[0;32m----> 3\u001b[0;31m \u001b[0mL\u001b[0m\u001b[0;34m.\u001b[0m\u001b[0mupper\u001b[0m\u001b[0;34m(\u001b[0m\u001b[0;34m)\u001b[0m\u001b[0;34m\u001b[0m\u001b[0;34m\u001b[0m\u001b[0m\n\u001b[0m",
            "\u001b[0;31mAttributeError\u001b[0m: 'list' object has no attribute 'upper'"
          ]
        }
      ],
      "source": [
        "L = [1,2,3]\n",
        "\n",
        "L.upper()\n",
        "\n",
        "# Class is blue-print\n",
        "# Class contain two things : 1. data or property 2. function or behaviour\n",
        "# list is class but L is object of list class.\n",
        "# list,dict,tuples,string,set all are class."
      ]
    },
    {
      "cell_type": "code",
      "execution_count": null,
      "metadata": {
        "colab": {
          "base_uri": "https://localhost:8080/",
          "height": 245
        },
        "id": "kz1_VOouIWOP",
        "outputId": "7020abae-d3f3-4c98-aecb-a66341535839"
      },
      "outputs": [
        {
          "ename": "AttributeError",
          "evalue": "ignored",
          "output_type": "error",
          "traceback": [
            "\u001b[0;31m---------------------------------------------------------------------------\u001b[0m",
            "\u001b[0;31mAttributeError\u001b[0m                            Traceback (most recent call last)",
            "\u001b[0;32m<ipython-input-5-843037de6885>\u001b[0m in \u001b[0;36m<cell line: 2>\u001b[0;34m()\u001b[0m\n\u001b[1;32m      1\u001b[0m \u001b[0ms\u001b[0m \u001b[0;34m=\u001b[0m \u001b[0;34m'hello'\u001b[0m\u001b[0;34m\u001b[0m\u001b[0;34m\u001b[0m\u001b[0m\n\u001b[0;32m----> 2\u001b[0;31m \u001b[0ms\u001b[0m\u001b[0;34m.\u001b[0m\u001b[0mappend\u001b[0m\u001b[0;34m(\u001b[0m\u001b[0;34m'x'\u001b[0m\u001b[0;34m)\u001b[0m\u001b[0;34m\u001b[0m\u001b[0;34m\u001b[0m\u001b[0m\n\u001b[0m\u001b[1;32m      3\u001b[0m \u001b[0;34m\u001b[0m\u001b[0m\n\u001b[1;32m      4\u001b[0m \u001b[0;31m# Object is instance of class\u001b[0m\u001b[0;34m\u001b[0m\u001b[0;34m\u001b[0m\u001b[0m\n\u001b[1;32m      5\u001b[0m \u001b[0;31m# In python all things are object\u001b[0m\u001b[0;34m\u001b[0m\u001b[0;34m\u001b[0m\u001b[0m\n",
            "\u001b[0;31mAttributeError\u001b[0m: 'str' object has no attribute 'append'"
          ]
        }
      ],
      "source": [
        "s = 'hello'\n",
        "s.append('x')\n",
        "\n",
        "# Object is instance of class\n",
        "# In python all things are object\n",
        "\n",
        "\n",
        "\n",
        "# syntax to create an object\n",
        "\n",
        "#objectname = classname()\n",
        "\n",
        "\n",
        "\n",
        "\"\"\"\n",
        "real world EX.\n",
        "course is class and enrolled students are object.\n",
        "\"\"\""
      ]
    },
    {
      "cell_type": "code",
      "execution_count": null,
      "metadata": {
        "colab": {
          "base_uri": "https://localhost:8080/"
        },
        "id": "w9Q0pGv9KTzI",
        "outputId": "a410e6cb-826c-4ad2-dd70-5e19c4e487e7"
      },
      "outputs": [
        {
          "name": "stdout",
          "output_type": "stream",
          "text": [
            "sneh\n"
          ]
        }
      ],
      "source": [
        "# Class\n",
        "\n",
        "class demo:\n",
        "\n",
        "  # constructor(special function)->superpower -> (special method that is invoked automatically at the time of object creation.)\n",
        "  def __init__(self):\n",
        "    print(\"sneh\")\n",
        "\n",
        "\n",
        "sneh = demo()"
      ]
    },
    {
      "cell_type": "code",
      "execution_count": null,
      "metadata": {
        "id": "pSeo_FBVK6CW"
      },
      "outputs": [],
      "source": [
        "# ATM SYSTEM...\n",
        "\n",
        "\n",
        "class Atm:\n",
        "\n",
        "  def __init__(self):\n",
        "    print(id(self))\n",
        "    self.pin = ''\n",
        "    self.balance = 0\n",
        "    #self.menu()\n",
        "\n",
        "  def menu(self):\n",
        "    user_input = input(\"\"\"\n",
        "    Hello Dear, How can I help you ??\n",
        "    1. Press 1 for create pin\n",
        "    2. Press 2 for change pin\n",
        "    3. Press 3 for check balance\n",
        "    4. Press 4 for withdraw\n",
        "    5. Press 5 for Exit\n",
        "    \"\"\")\n",
        "\n",
        "\n",
        "    if user_input == '1':\n",
        "      self.create_pin()\n",
        "    elif user_input == '2':\n",
        "      self.change_pin()\n",
        "    elif user_input == '3':\n",
        "      self.check_balance()\n",
        "    elif user_input == '4':\n",
        "      self.withdraw()\n",
        "    else :\n",
        "      exit()\n",
        "\n",
        "\n",
        "  def create_pin(self):\n",
        "    user_pin = input('Enter your pin::')\n",
        "    self.pin = user_pin\n",
        "\n",
        "    user_balance = int(input(\"Enter balance::\"))\n",
        "    self.balance = user_balance\n",
        "\n",
        "    print('Pin created successfully')\n",
        "    self.menu()\n",
        "\n",
        "  def change_pin(self):\n",
        "    old_pin = input(\"Enter old pin::\")\n",
        "\n",
        "    if old_pin == self.pin:\n",
        "      new_pin = input('Enter new pin::')\n",
        "      self.pin = new_pin\n",
        "      print(\"Pin changed successfully\")\n",
        "      self.menu()\n",
        "    else:\n",
        "      print(\"Sorry,it's not possible\")\n",
        "      self.menu()\n",
        "\n",
        "  def check_balance(self):\n",
        "    user_pin = input(\"Enter your pin::\")\n",
        "    if user_pin == self.pin:\n",
        "      print(\"Your balance is \",self.balance)\n",
        "    else:\n",
        "      print(\"Pin is wrong,try again\")\n",
        "\n",
        "\n",
        "  def withdraw(self):\n",
        "    user_pin = input(\"Enter your pin::\")\n",
        "    if user_pin == self.pin:\n",
        "      amount = int(input(\"Enter the amount::\"))\n",
        "      if amount <=self.balance:\n",
        "        self.balance = self.balance - amount\n",
        "        print(\"Withdraw successful balance is \",self.balance)\n",
        "      else:\n",
        "        print(\"Enter valid amount\")\n",
        "    else :\n",
        "      print(\"wrong pin\")\n",
        "    self.menu()"
      ]
    },
    {
      "cell_type": "code",
      "execution_count": null,
      "metadata": {
        "colab": {
          "base_uri": "https://localhost:8080/"
        },
        "id": "i-WP26-mY9dU",
        "outputId": "92780b7b-190e-4e51-bb09-adfeb0c1d330"
      },
      "outputs": [
        {
          "name": "stdout",
          "output_type": "stream",
          "text": [
            "140002288590448\n",
            "\n",
            "    Hello Dear, How can I help you ??\n",
            "    1. Press 1 for create pin\n",
            "    2. Press 2 for change pin\n",
            "    3. Press 3 for check balance\n",
            "    4. Press 4 for withdraw\n",
            "    5. Press 5 for Exit\n",
            "    5\n"
          ]
        }
      ],
      "source": [
        "ATM = Atm()"
      ]
    },
    {
      "cell_type": "code",
      "execution_count": null,
      "metadata": {
        "id": "w5MdmpxELCgm"
      },
      "outputs": [],
      "source": [
        "\"\"\"\n",
        "method vs function\n",
        "\n",
        "-> if function is inside of class is called method\n",
        " whereas if function outside of class is class function\n",
        "\n",
        "\n",
        "\"\"\"\n",
        "\n",
        "\n",
        "L = [1,2,3]\n",
        "len(L) # function ->bcos it is outside the list class\n",
        "L.append(4) # method -> bcos it is inside the list class"
      ]
    },
    {
      "cell_type": "code",
      "execution_count": null,
      "metadata": {
        "colab": {
          "base_uri": "https://localhost:8080/",
          "height": 35
        },
        "id": "2Z-N5U-GTZp3",
        "outputId": "42d41b92-ab33-4691-96ff-d9201834eb19"
      },
      "outputs": [
        {
          "data": {
            "application/vnd.google.colaboratory.intrinsic+json": {
              "type": "string"
            },
            "text/plain": [
              "'\\nwhat is megic method ??\\nmagic method has superpower,which through they are automatic run without calling them \\n'"
            ]
          },
          "execution_count": 4,
          "metadata": {},
          "output_type": "execute_result"
        }
      ],
      "source": [
        "\"\"\"\n",
        "what is megic method ??\n",
        "magic method has superpower,which through they are automatic run without calling them\n",
        "\"\"\""
      ]
    },
    {
      "cell_type": "code",
      "execution_count": null,
      "metadata": {
        "id": "kdJvVIGCTqfc"
      },
      "outputs": [],
      "source": [
        "\"\"\"\n",
        "when to use constructors??\n",
        "->when code automatic perfer without calling\n",
        "like EX.\n",
        "In real world,\n",
        "company provide some basic function to user but they are not provide access of database because it perform autometic,\n",
        "so that it is perform in constructor\"\"\""
      ]
    },
    {
      "cell_type": "code",
      "execution_count": null,
      "metadata": {
        "colab": {
          "base_uri": "https://localhost:8080/",
          "height": 227
        },
        "id": "_gEkp9j6WmsE",
        "outputId": "55bb3dcb-81b1-4610-849c-be46b6c076d8"
      },
      "outputs": [
        {
          "ename": "NameError",
          "evalue": "ignored",
          "output_type": "error",
          "traceback": [
            "\u001b[0;31m---------------------------------------------------------------------------\u001b[0m",
            "\u001b[0;31mNameError\u001b[0m                                 Traceback (most recent call last)",
            "\u001b[0;32m<ipython-input-2-8818587c85d8>\u001b[0m in \u001b[0;36m<cell line: 8>\u001b[0;34m()\u001b[0m\n\u001b[1;32m      6\u001b[0m \"\"\"\n\u001b[1;32m      7\u001b[0m \u001b[0;34m\u001b[0m\u001b[0m\n\u001b[0;32m----> 8\u001b[0;31m \u001b[0mobj1\u001b[0m \u001b[0;34m=\u001b[0m \u001b[0mAtm\u001b[0m\u001b[0;34m(\u001b[0m\u001b[0;34m)\u001b[0m\u001b[0;34m\u001b[0m\u001b[0;34m\u001b[0m\u001b[0m\n\u001b[0m\u001b[1;32m      9\u001b[0m \u001b[0;34m\u001b[0m\u001b[0m\n",
            "\u001b[0;31mNameError\u001b[0m: name 'Atm' is not defined"
          ]
        }
      ],
      "source": [
        "\"\"\"\n",
        "what is self??\n",
        "self provide functionality to access other function code\n",
        "\n",
        "self = obj\n",
        "\"\"\"\n"
      ]
    },
    {
      "cell_type": "code",
      "execution_count": null,
      "metadata": {
        "colab": {
          "base_uri": "https://localhost:8080/"
        },
        "id": "QlqVlYRgYnje",
        "outputId": "7d688435-c695-4d43-8748-fa5297fa4dfa"
      },
      "outputs": [
        {
          "output_type": "stream",
          "name": "stdout",
          "text": [
            "132965021838512\n"
          ]
        }
      ],
      "source": [
        "obj = Atm()"
      ]
    },
    {
      "cell_type": "code",
      "source": [
        "id(obj)"
      ],
      "metadata": {
        "colab": {
          "base_uri": "https://localhost:8080/"
        },
        "id": "QAtLnaZ0i-Mc",
        "outputId": "4a508d72-8a7f-4e07-92fb-294301a882a7"
      },
      "execution_count": null,
      "outputs": [
        {
          "output_type": "execute_result",
          "data": {
            "text/plain": [
              "132965021838512"
            ]
          },
          "metadata": {},
          "execution_count": 3
        }
      ]
    },
    {
      "cell_type": "code",
      "source": [
        "# new datatype\n",
        "\n",
        "\n",
        "class Frac:\n",
        "\n",
        "  # parameterized constructor(input required)\n",
        "  def __init__(self,x,y):\n",
        "\n",
        "    self.num = x\n",
        "    self.den = y\n",
        "\n",
        "  def __str__(self):\n",
        "    return '{}/{}'.format(self.num,self.den)\n",
        "\n",
        "  def __add__(self,other):\n",
        "    new_num = ((self.num * other.den) + (self.den * other.num))\n",
        "    new_den = (self.den * other.den)\n",
        "\n",
        "    return '{}/{}'.format(new_num,new_den)\n",
        "\n",
        "  def __sub__(self,other):\n",
        "    new_num = ((self.num * other.den) - (self.den * other.num))\n",
        "    new_den = (self.den * other.den)\n",
        "\n",
        "    return '{}/{}'.format(new_num,new_den)\n",
        "\n",
        "  def __mul__(self,other):\n",
        "    new_num = ((self.num * other.num))\n",
        "    new_den = (self.den * other.den)\n",
        "\n",
        "    return '{}/{}'.format(new_num,new_den)\n",
        "\n",
        "  def __truediv__(self,other):\n",
        "    new_num = (self.num * other.den)\n",
        "    new_den = (self.den * other.den)\n",
        "\n",
        "    return '{}/{}'.format(new_num,new_den)\n",
        "\n",
        "  def convert_to_decimal(self):\n",
        "    return self.num/self.den"
      ],
      "metadata": {
        "id": "CsMBFZXVjQXP"
      },
      "execution_count": null,
      "outputs": []
    },
    {
      "cell_type": "code",
      "source": [
        "fr1 = Frac(3,4)\n",
        "fr2 = Frac(1,2)"
      ],
      "metadata": {
        "id": "ntjGWbsmjfA2"
      },
      "execution_count": null,
      "outputs": []
    },
    {
      "cell_type": "code",
      "source": [
        "print(fr1 + fr2)\n",
        "print(fr1 - fr2)\n",
        "print(fr1 * fr2)\n",
        "print(fr1 / fr2)"
      ],
      "metadata": {
        "colab": {
          "base_uri": "https://localhost:8080/"
        },
        "id": "4aVyJR0km85O",
        "outputId": "a799f932-4488-402e-9f62-ce265abbede7"
      },
      "execution_count": null,
      "outputs": [
        {
          "output_type": "stream",
          "name": "stdout",
          "text": [
            "10/8\n",
            "2/8\n",
            "3/8\n",
            "6/8\n"
          ]
        }
      ]
    }
  ],
  "metadata": {
    "colab": {
      "provenance": [],
      "authorship_tag": "ABX9TyMwOAl6U0gHlqC/5Ao29zqt"
    },
    "kernelspec": {
      "display_name": "Python 3",
      "name": "python3"
    },
    "language_info": {
      "name": "python"
    }
  },
  "nbformat": 4,
  "nbformat_minor": 0
}